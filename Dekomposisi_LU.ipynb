{
  "nbformat": 4,
  "nbformat_minor": 0,
  "metadata": {
    "colab": {
      "provenance": [],
      "authorship_tag": "ABX9TyOprnmPsGNysNvJU8eIL0Il",
      "include_colab_link": true
    },
    "kernelspec": {
      "name": "python3",
      "display_name": "Python 3"
    },
    "language_info": {
      "name": "python"
    }
  },
  "cells": [
    {
      "cell_type": "markdown",
      "metadata": {
        "id": "view-in-github",
        "colab_type": "text"
      },
      "source": [
        "<a href=\"https://colab.research.google.com/github/UkeyHafil/Metode_Numerik/blob/main/Dekomposisi_LU.ipynb\" target=\"_parent\"><img src=\"https://colab.research.google.com/assets/colab-badge.svg\" alt=\"Open In Colab\"/></a>"
      ]
    },
    {
      "cell_type": "markdown",
      "source": [
        "# **Pake ini buat coding utama**"
      ],
      "metadata": {
        "id": "9fUdPQU99Rff"
      }
    },
    {
      "cell_type": "code",
      "execution_count": null,
      "metadata": {
        "colab": {
          "base_uri": "https://localhost:8080/",
          "height": 453
        },
        "id": "T-j7lAdU1c_U",
        "outputId": "5c5ce154-0a37-4a97-e90b-5a6767fdcf1c"
      },
      "outputs": [
        {
          "name": "stdout",
          "output_type": "stream",
          "text": [
            "Masukkan ukuran matriks persegi: 2\n",
            "Masukkan elemen A[0][0]: 1\n",
            "Masukkan elemen A[0][1]: 2\n",
            "Masukkan elemen A[1][0]: 3\n",
            "Masukkan elemen A[1][1]: 4\n"
          ]
        },
        {
          "output_type": "error",
          "ename": "IndexError",
          "evalue": "ignored",
          "traceback": [
            "\u001b[0;31m---------------------------------------------------------------------------\u001b[0m",
            "\u001b[0;31mIndexError\u001b[0m                                Traceback (most recent call last)",
            "\u001b[0;32m<ipython-input-78-36ab9ed4411c>\u001b[0m in \u001b[0;36m<cell line: 60>\u001b[0;34m()\u001b[0m\n\u001b[1;32m     58\u001b[0m     \u001b[0mmatrix\u001b[0m\u001b[0;34m.\u001b[0m\u001b[0mappend\u001b[0m\u001b[0;34m(\u001b[0m\u001b[0mrow\u001b[0m\u001b[0;34m)\u001b[0m\u001b[0;34m\u001b[0m\u001b[0;34m\u001b[0m\u001b[0m\n\u001b[1;32m     59\u001b[0m \u001b[0;34m\u001b[0m\u001b[0m\n\u001b[0;32m---> 60\u001b[0;31m \u001b[0mP\u001b[0m\u001b[0;34m,\u001b[0m \u001b[0mL\u001b[0m\u001b[0;34m,\u001b[0m \u001b[0mU\u001b[0m \u001b[0;34m=\u001b[0m \u001b[0mdekomposisi_lu\u001b[0m\u001b[0;34m(\u001b[0m\u001b[0mmatrix\u001b[0m\u001b[0;34m)\u001b[0m\u001b[0;34m\u001b[0m\u001b[0;34m\u001b[0m\u001b[0m\n\u001b[0m\u001b[1;32m     61\u001b[0m \u001b[0;34m\u001b[0m\u001b[0m\n\u001b[1;32m     62\u001b[0m \u001b[0mprint\u001b[0m\u001b[0;34m(\u001b[0m\u001b[0;34m\"Matriks Input A:\"\u001b[0m\u001b[0;34m)\u001b[0m\u001b[0;34m\u001b[0m\u001b[0;34m\u001b[0m\u001b[0m\n",
            "\u001b[0;32m<ipython-input-78-36ab9ed4411c>\u001b[0m in \u001b[0;36mdekomposisi_lu\u001b[0;34m(matrix)\u001b[0m\n\u001b[1;32m     42\u001b[0m                 \u001b[0mL\u001b[0m\u001b[0;34m[\u001b[0m\u001b[0mi\u001b[0m\u001b[0;34m]\u001b[0m\u001b[0;34m[\u001b[0m\u001b[0mj\u001b[0m\u001b[0;34m]\u001b[0m \u001b[0;34m=\u001b[0m \u001b[0;36m0\u001b[0m  \u001b[0;31m# Hindari pembagian oleh nol\u001b[0m\u001b[0;34m\u001b[0m\u001b[0;34m\u001b[0m\u001b[0m\n\u001b[1;32m     43\u001b[0m             \u001b[0;32melse\u001b[0m\u001b[0;34m:\u001b[0m\u001b[0;34m\u001b[0m\u001b[0;34m\u001b[0m\u001b[0m\n\u001b[0;32m---> 44\u001b[0;31m                 \u001b[0mL\u001b[0m\u001b[0;34m[\u001b[0m\u001b[0mi\u001b[0m\u001b[0;34m]\u001b[0m\u001b[0;34m[\u001b[0m\u001b[0mj\u001b[0m\u001b[0;34m]\u001b[0m \u001b[0;34m=\u001b[0m \u001b[0;34m(\u001b[0m\u001b[0mPA\u001b[0m\u001b[0;34m[\u001b[0m\u001b[0mi\u001b[0m\u001b[0;34m]\u001b[0m\u001b[0;34m[\u001b[0m\u001b[0mj\u001b[0m\u001b[0;34m]\u001b[0m \u001b[0;34m-\u001b[0m \u001b[0ms2\u001b[0m\u001b[0;34m)\u001b[0m \u001b[0;34m/\u001b[0m \u001b[0mU\u001b[0m\u001b[0;34m[\u001b[0m\u001b[0mj\u001b[0m\u001b[0;34m]\u001b[0m\u001b[0;34m[\u001b[0m\u001b[0mj\u001b[0m\u001b[0;34m]\u001b[0m\u001b[0;34m\u001b[0m\u001b[0;34m\u001b[0m\u001b[0m\n\u001b[0m\u001b[1;32m     45\u001b[0m \u001b[0;34m\u001b[0m\u001b[0m\n\u001b[1;32m     46\u001b[0m     \u001b[0;32mreturn\u001b[0m \u001b[0mP\u001b[0m\u001b[0;34m,\u001b[0m \u001b[0mL\u001b[0m\u001b[0;34m,\u001b[0m \u001b[0mU\u001b[0m\u001b[0;34m\u001b[0m\u001b[0;34m\u001b[0m\u001b[0m\n",
            "\u001b[0;31mIndexError\u001b[0m: list index out of range"
          ]
        }
      ],
      "source": [
        "def pivot_matrix(M):\n",
        "    #Mengembalikan matriks pivoting untuk M, digunakan dalam metode Doolittle.\n",
        "    m = len(M)\n",
        "\n",
        "    # Membuat matriks identitas dengan nilai floating point\n",
        "    id_mat = [[float(i == j) for i in range(m)] for j in range(m)]\n",
        "\n",
        "    # Merangkai matriks identitas sehingga elemen terbesar dari setiap kolom M ditempatkan pada diagonal M\n",
        "    for j in range(m):\n",
        "        max_row = max(range(j, m), key=lambda i: abs(M[i][j]))\n",
        "        if j != max_row:\n",
        "            # Tukar baris\n",
        "            id_mat[j], id_mat[max_row] = id_mat[max_row], id_mat[j]\n",
        "\n",
        "    return id_mat\n",
        "\n",
        "def dekomposisi_lu(matrix):\n",
        "    n = len(matrix)\n",
        "\n",
        "    # Inisialisasi matriks L dan U dengan nilai nol\n",
        "    L = [[0.0] * n for _ in range(n)]\n",
        "    U = [[0.0] * n for _ in range(n)]\n",
        "\n",
        "    # Membuat matriks pivot P dan matriks yang telah dikalikan PA\n",
        "    P = pivot_matrix(matrix)\n",
        "    PA = mult_matrix(P, matrix)\n",
        "\n",
        "    # Melakukan Dekomposisi LU\n",
        "    for j in range(n):\n",
        "        # Semua elemen diagonal L diset ke 1.0\n",
        "        L[j][j] = 1.0\n",
        "\n",
        "        # u_{ij} = a_{ij} - \\sum_{k=1}^{i-1} u_{kj} l_{ik}\n",
        "        for i in range(j + 1):\n",
        "            s1 = sum(U[k][j] * L[i][k] for k in range(i))\n",
        "            U[i][j] = PA[i][j] - s1\n",
        "\n",
        "        # l_{ij} = (1/u_{jj}) (a_{ij} - \\sum_{k=1}^{j-1} u_{kj} l_{ik})\n",
        "        for i in range(j, n):\n",
        "            s2 = sum(U[i][k] * L[k][j] for k in range(j))\n",
        "            if U[j][j] == 0:\n",
        "                L[i][j] = 0  # Hindari pembagian oleh nol\n",
        "            else:\n",
        "                L[i][j] = (PA[i][j] - s2) / U[j][j]\n",
        "\n",
        "    return P, L, U\n",
        "\n",
        "# Input ukuran matriks persegi\n",
        "n = int(input(\"Masukkan ukuran matriks persegi: \"))\n",
        "\n",
        "# Input elemen-elemen matriks\n",
        "matrix = []\n",
        "for i in range(n):\n",
        "    row = []\n",
        "    for j in range(n):\n",
        "        elemen = float(input(f\"Masukkan elemen A[{i}][{j}]: \"))\n",
        "        row.append(elemen)\n",
        "    matrix.append(row)\n",
        "\n",
        "P, L, U = dekomposisi_lu(matrix)\n",
        "\n",
        "print(\"Matriks Input A:\")\n",
        "for row in matrix:\n",
        "    print([f\"{elem:.3f}\" for elem in row])\n",
        "\n",
        "print(\"\\nMatriks P:\")\n",
        "for row in P:\n",
        "    print([f\"{elem:.3f}\" for elem in row])\n",
        "\n",
        "print(\"\\nMatriks L:\")\n",
        "for row in L:\n",
        "    print([f\"{elem:.3f}\" for elem in row])\n",
        "\n",
        "print(\"\\nMatriks U:\")\n",
        "for row in U:\n",
        "    print([f\"{elem:.3f}\" for elem in row])\n",
        "\n",
        "# Rekonstruksi matriks asli A dengan mengalikan L dan U\n",
        "# A = [[0.0] * n for _ in range(n)]\n",
        "# for i in range(n):\n",
        "#    for j in range(n):\n",
        "#        for k in range(n):\n",
        "#            A[i][j] += L[i][k] * U[k][j]\n",
        "\n",
        "#print(\"\\nMatriks Asli yang Dikonstruksi A:\")\n",
        "#for row in A:\n",
        "#    print([f\"{elem:.3f}\" for elem in row])\n"
      ]
    },
    {
      "cell_type": "markdown",
      "source": [
        "**Backup: Karena tidak ada yang bilangan float hasilnya**"
      ],
      "metadata": {
        "id": "MexVT6YO6FoZ"
      }
    },
    {
      "cell_type": "code",
      "source": [
        "def lu_decomposition(matrix):\n",
        "    n = len(matrix)\n",
        "\n",
        "    # Initialize L and U matrices with zeros\n",
        "    L = [[0.0] * n for _ in range(n)]\n",
        "    U = [[0.0] * n for _ in range(n)]\n",
        "\n",
        "    for i in range(n):\n",
        "        # U matrix: copy the i-th row of the original matrix\n",
        "        for j in range(i, n):\n",
        "            U[i][j] = matrix[i][j]\n",
        "\n",
        "        # L matrix: set diagonal elements to 1\n",
        "        L[i][i] = 1.0\n",
        "\n",
        "        # Calculate the elements of L and U\n",
        "        for k in range(i + 1, n):\n",
        "            factor = U[k][i] / U[i][i]\n",
        "            L[k][i] = factor\n",
        "            for j in range(i, n):\n",
        "                U[k][j] -= factor * U[i][j]\n",
        "\n",
        "    return L, U\n",
        "\n",
        "# Input the size of the matrix\n",
        "n = int(input(\"Enter the size of the square matrix: \"))\n",
        "\n",
        "# Input the elements of the matrix\n",
        "matrix = []\n",
        "for i in range(n):\n",
        "    row = []\n",
        "    for j in range(n):\n",
        "        element = float(input(f\"Enter element A[{i}][{j}]: \"))\n",
        "        row.append(element)\n",
        "    matrix.append(row)\n",
        "\n",
        "L, U = lu_decomposition(matrix)\n",
        "\n",
        "print(\"Input Matrix A:\")\n",
        "for row in matrix:\n",
        "    print([f\"{elem:.3f}\" for elem in row])\n",
        "\n",
        "print(\"\\nL matrix:\")\n",
        "for row in L:\n",
        "    print([f\"{elem:.3f}\" for elem in row])\n",
        "\n",
        "print(\"\\nU matrix:\")\n",
        "for row in U:\n",
        "    print([f\"{elem:.3f}\" for elem in row])\n",
        "\n",
        "# Reconstruct the original matrix A by multiplying L and U\n",
        "A = [[0.0] * n for _ in range(n)]\n",
        "for i in range(n):\n",
        "    for j in range(n):\n",
        "        for k in range(n):\n",
        "            A[i][j] += L[i][k] * U[k][j]\n",
        "\n",
        "print(\"\\nReconstructed Matrix A:\")\n",
        "for row in A:\n",
        "    print([f\"{elem:.3f}\" for elem in row])\n"
      ],
      "metadata": {
        "colab": {
          "base_uri": "https://localhost:8080/"
        },
        "id": "R3CDZNo76Ecp",
        "outputId": "1041ccd1-090a-47c4-8f94-a752d7f21e5b"
      },
      "execution_count": null,
      "outputs": [
        {
          "output_type": "stream",
          "name": "stdout",
          "text": [
            "Enter the size of the square matrix: 2\n",
            "Enter element A[0][0]: 1\n",
            "Enter element A[0][1]: 2\n",
            "Enter element A[1][0]: 3\n",
            "Enter element A[1][1]: 4\n",
            "Input Matrix A:\n",
            "['1.000', '2.000']\n",
            "['3.000', '4.000']\n",
            "\n",
            "L matrix:\n",
            "['1.000', '0.000']\n",
            "['0.000', '1.000']\n",
            "\n",
            "U matrix:\n",
            "['1.000', '2.000']\n",
            "['0.000', '4.000']\n",
            "\n",
            "Reconstructed Matrix A:\n",
            "['1.000', '2.000']\n",
            "['0.000', '4.000']\n"
          ]
        }
      ]
    },
    {
      "cell_type": "markdown",
      "source": [
        "# **test lain tanpa input, hasil sama \"out of range\"**"
      ],
      "metadata": {
        "id": "ifD0_ul49diU"
      }
    },
    {
      "cell_type": "code",
      "source": [
        "\n",
        "def mult_matrix(M, N):\n",
        "    \"\"\"Mengalikan matriks persegi dengan dimensi yang sama M dan N\"\"\"\n",
        "\n",
        "    # Mengubah N menjadi daftar tupel kolom\n",
        "    tuple_N = zip(*N)\n",
        "\n",
        "    # Nested list comprehension untuk menghitung perkalian matriks\n",
        "    result = [[sum(el_m * el_n for el_m, el_n in zip(row_m, col_n)) for col_n in tuple_N] for row_m in M]\n",
        "\n",
        "    return result\n",
        "\n",
        "def pivot_matrix(M):\n",
        "    \"\"\"Mengembalikan matriks pivoting untuk M, digunakan dalam metode Doolittle.\"\"\"\n",
        "    m = len(M)\n",
        "\n",
        "    # Membuat matriks identitas dengan nilai floating point\n",
        "    id_mat = [[float(i == j) for i in range(m)] for j in range(m)]\n",
        "\n",
        "    # Merangkai matriks identitas sehingga elemen terbesar dari setiap kolom M ditempatkan pada diagonal M\n",
        "    for j in range(m):\n",
        "        max_row = max(range(j, m), key=lambda i: abs(M[i][j]))\n",
        "        if j != max_row:\n",
        "            # Tukar baris\n",
        "            id_mat[j], id_mat[max_row] = id_mat[max_row], id_mat[j]\n",
        "\n",
        "    return id_mat\n",
        "\n",
        "def lu_decomposition(A):\n",
        "    \"\"\"Melakukan Dekomposisi LU dari A (yang harus berbentuk persegi)\n",
        "    menjadi PA = LU. Fungsi ini mengembalikan P, L, dan U.\"\"\"\n",
        "    n = len(A)\n",
        "\n",
        "    # Membuat matriks nol untuk L dan U\n",
        "    L = [[0.0] * n for _ in range(n)]\n",
        "    U = [[0.0] * n for _ in range(n)]\n",
        "\n",
        "    # Membuat matriks pivot P dan matriks yang telah dikalikan PA\n",
        "    P = pivot_matrix(A)\n",
        "    PA = mult_matrix(P, A)\n",
        "\n",
        "    # Melakukan Dekomposisi LU\n",
        "    for j in range(n):\n",
        "        # Semua elemen diagonal L diset ke 1.0\n",
        "        L[j][j] = 1.0\n",
        "\n",
        "        # u_{ij} = a_{ij} - \\sum_{k=1}^{i-1} u_{kj} l_{ik}\n",
        "        for i in range(j + 1):\n",
        "            s1 = sum(U[k][j] * L[i][k] for k in range(i))\n",
        "            U[i][j] = PA[i][j] - s1\n",
        "\n",
        "        # l_{ij} = (1/u_{jj}) (a_{ij} - \\sum_{k=1}^{j-1} u_{kj} l_{ik})\n",
        "        for i in range(j, n):\n",
        "            s2 = sum(U[k][j] * L[i][k] for k in range(j))\n",
        "            L[i][j] = (PA[i][j] - s2) / U[j][j]\n",
        "\n",
        "    return P, L, U\n",
        "\n",
        "def print_matrix(matrix):\n",
        "    for row in matrix:\n",
        "        print([\"{:.3f}\".format(elem) for elem in row])\n",
        "\n",
        "A = [[7, 3, -1, 2], [3, 8, 1, -4], [-1, 1, 4, -1], [2, -4, -1, 6]]\n",
        "P, L, U = lu_decomposition(A)\n",
        "\n",
        "print(\"A:\")\n",
        "print_matrix(A)\n",
        "\n",
        "print(\"P:\")\n",
        "print_matrix(P)\n",
        "\n",
        "print(\"L:\")\n",
        "print_matrix(L)\n",
        "\n",
        "print(\"U:\")\n",
        "print_matrix(U)\n"
      ],
      "metadata": {
        "id": "k37102cc8NAp"
      },
      "execution_count": null,
      "outputs": []
    }
  ]
}