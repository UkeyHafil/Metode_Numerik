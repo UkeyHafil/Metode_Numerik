{
  "nbformat": 4,
  "nbformat_minor": 0,
  "metadata": {
    "colab": {
      "provenance": [],
      "authorship_tag": "ABX9TyPWmIg3DQF/ynMVLTjJLFCh",
      "include_colab_link": true
    },
    "kernelspec": {
      "name": "python3",
      "display_name": "Python 3"
    },
    "language_info": {
      "name": "python"
    }
  },
  "cells": [
    {
      "cell_type": "markdown",
      "metadata": {
        "id": "view-in-github",
        "colab_type": "text"
      },
      "source": [
        "<a href=\"https://colab.research.google.com/github/UkeyHafil/Metode_Numerik/blob/main/Gaus_Jordan_Elemination.ipynb\" target=\"_parent\"><img src=\"https://colab.research.google.com/assets/colab-badge.svg\" alt=\"Open In Colab\"/></a>"
      ]
    },
    {
      "cell_type": "code",
      "execution_count": null,
      "metadata": {
        "id": "JJoThu87Wt__"
      },
      "outputs": [],
      "source": [
        "def gauss_jordan_elimination(matrix):\n",
        "    n = len(matrix)\n",
        "\n",
        "    for i in range(n):\n",
        "        # Pivoting - find the row with the maximum element in the current column\n",
        "        max_row = i\n",
        "        for j in range(i + 1, n):\n",
        "            if abs(matrix[j][i]) > abs(matrix[max_row][i]):\n",
        "                max_row = j\n",
        "        matrix[i], matrix[max_row] = matrix[max_row], matrix[i]\n",
        "\n",
        "        # Make the diagonal element 1\n",
        "        pivot = matrix[i][i]\n",
        "        for j in range(i, n + 1):\n",
        "            matrix[i][j] /= pivot\n",
        "\n",
        "        # Eliminate non-zero entries below the current row\n",
        "        for j in range(n):\n",
        "            if j != i:\n",
        "                factor = matrix[j][i]\n",
        "                for k in range(i, n + 1):\n",
        "                    matrix[j][k] -= factor * matrix[i][k]\n",
        "\n",
        "    solutions = [row[-1] for row in matrix]\n",
        "    return solutions\n",
        "\n",
        "# Meminta input dari pengguna\n",
        "n = int(input(\"Masukkan jumlah variabel dalam sistem persamaan linear: \"))\n",
        "\n",
        "matrix = []\n",
        "print(\"Masukkan matriks koefisien dan vektor konstanta:\")\n",
        "for i in range(n):\n",
        "    row = list(map(float, input(f\"Masukkan baris {i + 1} (sebagai bilangan desimal, dipisahkan dengan spasi): \").split()))\n",
        "    matrix.append(row)\n",
        "\n",
        "# Contoh penggunaan\n",
        "solutions = gauss_jordan_elimination(matrix)\n",
        "\n",
        "print(\"Solusi sistem persamaan linear:\")\n",
        "for i, sol in enumerate(solutions):\n",
        "    print(f\"x{i+1} = {sol}\")\n"
      ]
    }
  ]
}