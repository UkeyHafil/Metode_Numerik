{
  "nbformat": 4,
  "nbformat_minor": 0,
  "metadata": {
    "colab": {
      "provenance": [],
      "authorship_tag": "ABX9TyNPCAVgUEmbvVm81GnMn0us",
      "include_colab_link": true
    },
    "kernelspec": {
      "name": "python3",
      "display_name": "Python 3"
    },
    "language_info": {
      "name": "python"
    }
  },
  "cells": [
    {
      "cell_type": "markdown",
      "metadata": {
        "id": "view-in-github",
        "colab_type": "text"
      },
      "source": [
        "<a href=\"https://colab.research.google.com/github/UkeyHafil/Metode_Numerik/blob/main/Newton_Rhapson.ipynb\" target=\"_parent\"><img src=\"https://colab.research.google.com/assets/colab-badge.svg\" alt=\"Open In Colab\"/></a>"
      ]
    },
    {
      "cell_type": "code",
      "execution_count": 8,
      "metadata": {
        "colab": {
          "base_uri": "https://localhost:8080/"
        },
        "id": "aE7W2DTjQEdf",
        "outputId": "50f391d4-6906-4b31-9982-d69f18bdb4fe"
      },
      "outputs": [
        {
          "output_type": "stream",
          "name": "stdout",
          "text": [
            "Masukkan tebakan awal (x0): 1\n",
            "Masukkan toleransi: 1.2\n",
            "Masukkan jumlah iterasi maksimum: 5\n",
            "Masukkan ekspresi fungsi f(x): x**2 - 4\n",
            "Masukkan ekspresi turunan pertama df(x): 2 * x\n",
            "Akar perkiraan: 2.05\n"
          ]
        }
      ],
      "source": [
        "def newton_raphson(f, df, x0, tol, max_iter):\n",
        "    \"\"\"\n",
        "    Metode Newton-Raphson untuk mencari akar dari fungsi f(x).\n",
        "\n",
        "    Parameters:\n",
        "    f: Fungsi yang akan dicari akarnya.\n",
        "    df: Turunan pertama dari f(x).\n",
        "    x0: Tebakan awal.\n",
        "    tol: Toleransi, batasan error yang diizinkan.\n",
        "    max_iter: Jumlah iterasi maksimum yang diizinkan.\n",
        "\n",
        "    Returns:\n",
        "    Akar perkiraan dari fungsi f(x).\n",
        "    \"\"\"\n",
        "    x = x0\n",
        "    iter_count = 0\n",
        "\n",
        "    while iter_count < max_iter:\n",
        "        x_new = x - f(x) / df(x)\n",
        "\n",
        "        if abs(x_new - x) < tol:\n",
        "            return x_new\n",
        "\n",
        "        x = x_new\n",
        "        iter_count += 1\n",
        "\n",
        "    raise Exception(\"Metode Newton-Raphson tidak konvergen\")\n",
        "\n",
        "# Meminta pengguna untuk memasukkan fungsi f(x)\n",
        "def get_user_function():\n",
        "    expression = input(\"Masukkan ekspresi fungsi f(x): \")\n",
        "    f = lambda x: eval(expression)\n",
        "    return f\n",
        "\n",
        "# Meminta pengguna untuk memasukkan turunan pertama df(x)\n",
        "def get_user_derivative():\n",
        "    expression = input(\"Masukkan ekspresi turunan pertama df(x): \")\n",
        "    df = lambda x: eval(expression)\n",
        "    return df\n",
        "\n",
        "# Tebakan awal\n",
        "x0 = float(input(\"Masukkan tebakan awal (x0): \"))\n",
        "\n",
        "# Toleransi dan jumlah iterasi maksimum\n",
        "tolerance = float(input(\"Masukkan toleransi: \"))\n",
        "max_iterations = int(input(\"Masukkan jumlah iterasi maksimum: \"))\n",
        "\n",
        "# Dapatkan fungsi dan turunan dari pengguna\n",
        "f = get_user_function()\n",
        "df = get_user_derivative()\n",
        "\n",
        "# Panggil fungsi Newton-Raphson\n",
        "result = newton_raphson(f, df, x0, tolerance, max_iterations)\n",
        "\n",
        "print(\"Akar perkiraan:\", result)\n"
      ]
    }
  ]
}