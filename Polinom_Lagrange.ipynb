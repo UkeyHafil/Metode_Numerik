{
  "nbformat": 4,
  "nbformat_minor": 0,
  "metadata": {
    "colab": {
      "provenance": [],
      "authorship_tag": "ABX9TyOpFLNqI3+dDISN+aqAYJkP",
      "include_colab_link": true
    },
    "kernelspec": {
      "name": "python3",
      "display_name": "Python 3"
    },
    "language_info": {
      "name": "python"
    }
  },
  "cells": [
    {
      "cell_type": "markdown",
      "metadata": {
        "id": "view-in-github",
        "colab_type": "text"
      },
      "source": [
        "<a href=\"https://colab.research.google.com/github/UkeyHafil/Metode_Numerik/blob/main/Polinom_Lagrange.ipynb\" target=\"_parent\"><img src=\"https://colab.research.google.com/assets/colab-badge.svg\" alt=\"Open In Colab\"/></a>"
      ]
    },
    {
      "cell_type": "markdown",
      "source": [
        "# **Interpolasi Lagrange**"
      ],
      "metadata": {
        "id": "9Q8l7YHgVsdu"
      }
    },
    {
      "cell_type": "code",
      "execution_count": null,
      "metadata": {
        "id": "XkgZ55PaTt_T"
      },
      "outputs": [],
      "source": [
        "def lagrange_interpolation(x, y, x_interp):\n",
        "    n = len(x)\n",
        "    result = 0.0\n",
        "\n",
        "    for i in range(n):\n",
        "        term = y[i]\n",
        "        for j in range(n):\n",
        "            if j != i:\n",
        "                term *= (x_interp - x[j]) / (x[i] - x[j])\n",
        "        result += term\n",
        "\n",
        "    return result\n",
        "\n",
        "# Input titik-titik data\n",
        "n = int(input(\"Masukkan jumlah titik data: \"))\n",
        "x = []\n",
        "y = []\n",
        "for i in range(n):\n",
        "    x_val = float(input(f\"Masukkan x_{i+1}: \"))\n",
        "    y_val = float(input(f\"Masukkan y_{i+1}: \"))\n",
        "    x.append(x_val)\n",
        "    y.append(y_val)\n",
        "\n",
        "# Input nilai x yang ingin diinterpolasi\n",
        "x_interp = float(input(\"Masukkan nilai x yang ingin diinterpolasi: \"))\n",
        "\n",
        "# Menghitung interpolasi\n",
        "interpolated_value = lagrange_interpolation(x, y, x_interp)\n",
        "print(f\"Interpolasi pada x = {x_interp} adalah {interpolated_value}\")\n"
      ]
    },
    {
      "cell_type": "markdown",
      "source": [
        "# **Polinom Lagrange**"
      ],
      "metadata": {
        "id": "c1MdzArUVwlr"
      }
    },
    {
      "cell_type": "code",
      "source": [
        "def lagrange_basis_polynomial(x, i, x_interp):\n",
        "    result = 1\n",
        "    for j in range(len(x)):\n",
        "        if j != i:\n",
        "            result *= (x_interp - x[j]) / (x[i] - x[j])\n",
        "    return result\n",
        "\n",
        "def lagrange_interpolation(x, y, x_interp):\n",
        "    n = len(x)\n",
        "    result = 0.0\n",
        "\n",
        "    for i in range(n):\n",
        "        result += y[i] * lagrange_basis_polynomial(x, i, x_interp)\n",
        "\n",
        "    return result\n",
        "\n",
        "# Input titik-titik data\n",
        "n = int(input(\"Masukkan jumlah titik data: \"))\n",
        "x = []\n",
        "y = []\n",
        "for i in range(n):\n",
        "    x_val = float(input(f\"Masukkan x_{i+1}: \"))\n",
        "    y_val = float(input(f\"Masukkan y_{i+1}: \"))\n",
        "    x.append(x_val)\n",
        "    y.append(y_val)\n",
        "\n",
        "# Input nilai x yang ingin diinterpolasi\n",
        "x_interp = float(input(\"Masukkan nilai x yang ingin diinterpolasi: \"))\n",
        "\n",
        "# Menghitung interpolasi\n",
        "interpolated_value = lagrange_interpolation(x, y, x_interp)\n",
        "print(f\"Interpolasi pada x = {x_interp} adalah {interpolated_value}\")\n"
      ],
      "metadata": {
        "id": "ACHvP8XtVziL"
      },
      "execution_count": null,
      "outputs": []
    }
  ]
}