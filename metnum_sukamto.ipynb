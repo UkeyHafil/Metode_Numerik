{
  "nbformat": 4,
  "nbformat_minor": 0,
  "metadata": {
    "colab": {
      "provenance": [],
      "authorship_tag": "ABX9TyOfa9QX4dlrbvFrEyzURwQu",
      "include_colab_link": true
    },
    "kernelspec": {
      "name": "python3",
      "display_name": "Python 3"
    },
    "language_info": {
      "name": "python"
    }
  },
  "cells": [
    {
      "cell_type": "markdown",
      "metadata": {
        "id": "view-in-github",
        "colab_type": "text"
      },
      "source": [
        "<a href=\"https://colab.research.google.com/github/UkeyHafil/Metode_Numerik/blob/main/metnum_sukamto.ipynb\" target=\"_parent\"><img src=\"https://colab.research.google.com/assets/colab-badge.svg\" alt=\"Open In Colab\"/></a>"
      ]
    },
    {
      "cell_type": "markdown",
      "source": [
        "**HAFIL SUKAMTO**\n",
        "**(2000897)**"
      ],
      "metadata": {
        "id": "lrun3EGoJWzA"
      }
    },
    {
      "cell_type": "code",
      "execution_count": null,
      "metadata": {
        "colab": {
          "base_uri": "https://localhost:8080/"
        },
        "id": "8WSmEoG0JUwL",
        "outputId": "4bcc40fb-9009-486b-e5c2-0e94e7b22bb9"
      },
      "outputs": [
        {
          "output_type": "stream",
          "name": "stdout",
          "text": [
            "Hello World\n",
            "Disini sedang mengetes kondisi\n"
          ]
        }
      ],
      "source": [
        "print(\"Assalamualaikum\")\n",
        "print('Disini sedang mengetes kondisi')"
      ]
    },
    {
      "cell_type": "markdown",
      "source": [
        "# **Variabel**"
      ],
      "metadata": {
        "id": "2Av6u7ngLeRk"
      }
    },
    {
      "cell_type": "code",
      "source": [
        "#diketahui f(x) = e^x - x"
      ],
      "metadata": {
        "id": "LWwg1CrRLdS3"
      },
      "execution_count": null,
      "outputs": []
    }
  ]
}